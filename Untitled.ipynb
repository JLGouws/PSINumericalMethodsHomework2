{
 "cells": [
  {
   "cell_type": "code",
   "execution_count": 4,
   "id": "8d315289-4511-4fad-94d5-84fb9bd78bdb",
   "metadata": {},
   "outputs": [
    {
     "name": "stderr",
     "output_type": "stream",
     "text": [
      "\u001b[32m\u001b[1m   Resolving\u001b[22m\u001b[39m package versions...\n",
      "\u001b[32m\u001b[1m  No Changes\u001b[22m\u001b[39m to `~/.julia/environments/v1.10/Project.toml`\n",
      "\u001b[32m\u001b[1m  No Changes\u001b[22m\u001b[39m to `~/.julia/environments/v1.10/Manifest.toml`\n",
      "\u001b[32m\u001b[1m   Resolving\u001b[22m\u001b[39m package versions...\n",
      "\u001b[32m\u001b[1m  No Changes\u001b[22m\u001b[39m to `~/.julia/environments/v1.10/Project.toml`\n",
      "\u001b[32m\u001b[1m  No Changes\u001b[22m\u001b[39m to `~/.julia/environments/v1.10/Manifest.toml`\n",
      "\u001b[32m\u001b[1m   Resolving\u001b[22m\u001b[39m package versions...\n",
      "\u001b[32m\u001b[1m  No Changes\u001b[22m\u001b[39m to `~/.julia/environments/v1.10/Project.toml`\n",
      "\u001b[32m\u001b[1m  No Changes\u001b[22m\u001b[39m to `~/.julia/environments/v1.10/Manifest.toml`\n",
      "\u001b[32m\u001b[1m   Resolving\u001b[22m\u001b[39m package versions...\n",
      "\u001b[32m\u001b[1m   Installed\u001b[22m\u001b[39m LegendrePolynomials ─ v0.4.4\n",
      "\u001b[32m\u001b[1m    Updating\u001b[22m\u001b[39m `~/.julia/environments/v1.10/Project.toml`\n",
      "  \u001b[90m[3db4a2ba] \u001b[39m\u001b[92m+ LegendrePolynomials v0.4.4\u001b[39m\n",
      "\u001b[32m\u001b[1m    Updating\u001b[22m\u001b[39m `~/.julia/environments/v1.10/Manifest.toml`\n",
      "  \u001b[90m[3db4a2ba] \u001b[39m\u001b[92m+ LegendrePolynomials v0.4.4\u001b[39m\n",
      "\u001b[32m\u001b[1mPrecompiling\u001b[22m\u001b[39m project...\n",
      "\u001b[32m  ✓ \u001b[39mLegendrePolynomials\n",
      "  1 dependency successfully precompiled in 1 seconds. 438 already precompiled.\n"
     ]
    }
   ],
   "source": [
    "using Pkg\n",
    "\n",
    "Pkg.add(\"WGLMakie\")\n",
    "Pkg.add(\"HCubature\")\n",
    "Pkg.add(\"SphericalHarmonics\")\n",
    "Pkg.add(\"LegendrePolynomials\")\n",
    "\n",
    "\n",
    "using WGLMakie\n",
    "using HCubature\n",
    "using SphericalHarmonics\n",
    "using LegendrePolynomials"
   ]
  },
  {
   "cell_type": "code",
   "execution_count": 3,
   "id": "5a9314c8-f088-4769-9ed3-95edbd4e680d",
   "metadata": {},
   "outputs": [
    {
     "name": "stdout",
     "output_type": "stream",
     "text": [
      "search: \u001b[0m\u001b[1my\u001b[22m\u001b[0m\u001b[1ml\u001b[22mi\u001b[0m\u001b[1mm\u001b[22ms! compute\u001b[0m\u001b[1mY\u001b[22m\u001b[0m\u001b[1ml\u001b[22m\u001b[0m\u001b[1mm\u001b[22m compute\u001b[0m\u001b[1mY\u001b[22m\u001b[0m\u001b[1ml\u001b[22m\u001b[0m\u001b[1mm\u001b[22m! Pol\u001b[0m\u001b[1my\u001b[22mE\u001b[0m\u001b[1ml\u001b[22me\u001b[0m\u001b[1mm\u001b[22ment Ra\u001b[0m\u001b[1my\u001b[22mmarchA\u001b[0m\u001b[1ml\u001b[22mgorith\u001b[0m\u001b[1mm\u001b[22m\n",
      "\n",
      "Couldn't find \u001b[36mYlm\u001b[39m\n",
      "Perhaps you meant all, cld, fld, im, lcm, rem, rm, sum, Sys, Spy, spy or any\n"
     ]
    },
    {
     "data": {
      "text/latex": [
       "No documentation found.\n",
       "\n",
       "Binding \\texttt{Ylm} does not exist.\n",
       "\n"
      ],
      "text/markdown": [
       "No documentation found.\n",
       "\n",
       "Binding `Ylm` does not exist.\n"
      ],
      "text/plain": [
       "  No documentation found.\n",
       "\n",
       "  Binding \u001b[36mYlm\u001b[39m does not exist."
      ]
     },
     "execution_count": 3,
     "metadata": {},
     "output_type": "execute_result"
    }
   ],
   "source": [
    "? Ylm"
   ]
  },
  {
   "cell_type": "code",
   "execution_count": 29,
   "id": "bcbca041-fcf9-4ca5-be04-6c6b997c114f",
   "metadata": {},
   "outputs": [
    {
     "data": {
      "text/plain": [
       "Ylm (generic function with 1 method)"
      ]
     },
     "execution_count": 29,
     "metadata": {},
     "output_type": "execute_result"
    }
   ],
   "source": [
    "Ylm(l, m, θ, φ) = sqrt((2 * l + 1) / (4 * π) * factorial(l - m) / factorial(l + m)) * Plm(cos(θ), l, m) * exp(im * m * φ)"
   ]
  },
  {
   "cell_type": "code",
   "execution_count": 30,
   "id": "057a9499-5dba-4ea5-9477-6b6f0c634ea7",
   "metadata": {},
   "outputs": [
    {
     "data": {
      "text/plain": [
       "flm (generic function with 1 method)"
      ]
     },
     "execution_count": 30,
     "metadata": {},
     "output_type": "execute_result"
    }
   ],
   "source": [
    "function flm(f, l, m)\n",
    "    println(\"hi\")\n",
    "    function mytestFunc(x)\n",
    "        Ylm(l, m, x[1], x[2]) * conj(Ylm(l, m, x[1], x[2]))\n",
    "    end\n",
    "    println(hcubature( mytestFunc, [0, 0], [π, 2 * π]))\n",
    "    println()\n",
    "    hcubature(x -> f(x[1], x[2]) * sin(x[1]) * conj(Ylm(l, m, x[1], x[2])), [0, 0], [π, 2 * π])\n",
    "end"
   ]
  },
  {
   "cell_type": "code",
   "execution_count": 31,
   "id": "0c656231-6f12-4fde-9ba9-5fc118952726",
   "metadata": {},
   "outputs": [
    {
     "data": {
      "text/plain": [
       "expandSphericalHarmonics (generic function with 1 method)"
      ]
     },
     "execution_count": 31,
     "metadata": {},
     "output_type": "execute_result"
    }
   ],
   "source": [
    "expandSphericalHarmonics(f, lₘₐₓ) = [[flm(f, l, m) for m in -l:l] for l in 0:lₘₐₓ]"
   ]
  },
  {
   "cell_type": "code",
   "execution_count": 32,
   "id": "288fb6cc-c5dd-4da5-b2c4-b92671ba07ac",
   "metadata": {},
   "outputs": [
    {
     "data": {
      "text/plain": [
       "myfunc (generic function with 1 method)"
      ]
     },
     "execution_count": 32,
     "metadata": {},
     "output_type": "execute_result"
    }
   ],
   "source": [
    "myfunc(a, b) = sin(a)^2 - cos(b)"
   ]
  },
  {
   "cell_type": "code",
   "execution_count": 33,
   "id": "d039c027-24b5-4d5f-9174-ab3605335606",
   "metadata": {},
   "outputs": [
    {
     "name": "stdout",
     "output_type": "stream",
     "text": [
      "hi\n",
      "1.5707963267948966\n",
      "2.134034539561688\n",
      "1.0075581140281051\n",
      "3.0609845666643114\n",
      "0.08060808692548149\n",
      "1.5707963267948966\n",
      "1.5707963267948966\n",
      "1.5707963267948966\n",
      "1.5707963267948966\n",
      "3.0609845666643114\n",
      "0.08060808692548149\n",
      "0.08060808692548149\n",
      "3.0609845666643114\n",
      "2.651892503013398\n",
      "0.4897001505763947\n",
      "0.4897001505763947\n",
      "2.651892503013398\n",
      "(1.5707963267948963 + 0.0im, 0.0)\n",
      "\n",
      "hi\n",
      "1.5707963267948966\n",
      "2.134034539561688\n",
      "1.0075581140281051\n",
      "3.0609845666643114\n",
      "0.08060808692548149\n",
      "1.5707963267948966\n",
      "1.5707963267948966\n",
      "1.5707963267948966\n",
      "1.5707963267948966\n",
      "3.0609845666643114\n",
      "0.08060808692548149\n",
      "0.08060808692548149\n",
      "3.0609845666643114\n",
      "2.651892503013398\n",
      "0.4897001505763947\n",
      "0.4897001505763947\n",
      "2.651892503013398\n",
      "2.356194490192345\n",
      "2.6378135965757403\n",
      "2.0745753838089493\n",
      "3.1012886101270523\n",
      "1.6111003702576374\n",
      "2.356194490192345\n",
      "2.356194490192345\n",
      "2.356194490192345\n",
      "2.356194490192345\n",
      "3.1012886101270523\n",
      "1.6111003702576374\n",
      "1.6111003702576374\n",
      "3.1012886101270523\n",
      "2.8967425783015956\n",
      "1.815646402083094\n",
      "1.815646402083094\n",
      "2.8967425783015956\n",
      "0.7853981633974483\n",
      "1.067017269780844\n",
      "0.5037790570140526\n",
      "1.5304922833321557\n",
      "0.040304043462740746\n",
      "0.7853981633974483\n",
      "0.7853981633974483\n",
      "0.7853981633974483\n",
      "0.7853981633974483\n",
      "1.5304922833321557\n",
      "0.040304043462740746\n",
      "0.040304043462740746\n",
      "1.5304922833321557\n",
      "1.325946251506699\n",
      "0.24485007528819736\n",
      "0.24485007528819736\n",
      "1.325946251506699\n",
      "(1.1780972450961726 + 0.0im, 2.220446049250313e-16)\n",
      "\n",
      "hi\n",
      "1.5707963267948966\n",
      "2.134034539561688\n",
      "1.0075581140281051\n",
      "3.0609845666643114\n",
      "0.08060808692548149\n",
      "1.5707963267948966\n",
      "1.5707963267948966\n",
      "1.5707963267948966\n",
      "1.5707963267948966\n",
      "3.0609845666643114\n",
      "0.08060808692548149\n",
      "0.08060808692548149\n",
      "3.0609845666643114\n",
      "2.651892503013398\n",
      "0.4897001505763947\n",
      "0.4897001505763947\n",
      "2.651892503013398\n",
      "2.356194490192345\n",
      "2.6378135965757403\n",
      "2.0745753838089493\n",
      "3.1012886101270523\n",
      "1.6111003702576374\n",
      "2.356194490192345\n",
      "2.356194490192345\n",
      "2.356194490192345\n",
      "2.356194490192345\n",
      "3.1012886101270523\n",
      "1.6111003702576374\n",
      "1.6111003702576374\n",
      "3.1012886101270523\n",
      "2.8967425783015956\n",
      "1.815646402083094\n",
      "1.815646402083094\n",
      "2.8967425783015956\n",
      "0.7853981633974483\n",
      "1.067017269780844\n",
      "0.5037790570140526\n",
      "1.5304922833321557\n",
      "0.040304043462740746\n",
      "0.7853981633974483\n",
      "0.7853981633974483\n",
      "0.7853981633974483\n",
      "0.7853981633974483\n",
      "1.5304922833321557\n",
      "0.040304043462740746\n",
      "0.040304043462740746\n",
      "1.5304922833321557\n",
      "1.325946251506699\n",
      "0.24485007528819736\n",
      "0.24485007528819736\n",
      "1.325946251506699\n",
      "(2.356194490192345 + 0.0im, 4.440892098500626e-16)\n",
      "\n"
     ]
    },
    {
     "ename": "LoadError",
     "evalue": "InterruptException:",
     "output_type": "error",
     "traceback": [
      "InterruptException:",
      "",
      "Stacktrace:",
      "  [1] Ylm(l::Int64, m::Int64, θ::Float64, φ::Float64)",
      "    @ Main ./In[29]:1",
      "  [2] (::var\"#27#29\"{typeof(myfunc), Int64, Int64})(x::StaticArraysCore.SVector{2, Float64})",
      "    @ Main ./In[30]:9",
      "  [3] (::HCubature.GenzMalik{2, Float64})(f::var\"#27#29\"{typeof(myfunc), Int64, Int64}, a::StaticArraysCore.SVector{2, Float64}, b::StaticArraysCore.SVector{2, Float64}, norm::typeof(LinearAlgebra.norm))",
      "    @ HCubature ~/.julia/packages/HCubature/QvyJW/src/genz-malik.jl:121",
      "  [4] hcubature_(f::var\"#27#29\"{typeof(myfunc), Int64, Int64}, a::StaticArraysCore.SVector{2, Float64}, b::StaticArraysCore.SVector{2, Float64}, norm::typeof(LinearAlgebra.norm), rtol_::Int64, atol::Int64, maxevals::Int64, initdiv::Int64)",
      "    @ HCubature ~/.julia/packages/HCubature/QvyJW/src/HCubature.jl:103",
      "  [5] hcubature_(f::var\"#27#29\"{typeof(myfunc), Int64, Int64}, a::Vector{Int64}, b::Vector{Float64}, norm::Function, rtol::Int64, atol::Int64, maxevals::Int64, initdiv::Int64)",
      "    @ HCubature ~/.julia/packages/HCubature/QvyJW/src/HCubature.jl:129",
      "  [6] hcubature",
      "    @ ~/.julia/packages/HCubature/QvyJW/src/HCubature.jl:178 [inlined]",
      "  [7] flm(f::typeof(myfunc), l::Int64, m::Int64)",
      "    @ Main ./In[30]:9",
      "  [8] #31",
      "    @ ./generator.jl:0 [inlined]",
      "  [9] iterate(g::Base.Generator, s::Vararg{Any})",
      "    @ Base ./generator.jl:47 [inlined]",
      " [10] collect_to!(dest::Vector{Tuple{ComplexF64, Float64}}, itr::Base.Generator{UnitRange{Int64}, var\"#31#33\"{Int64, typeof(myfunc)}}, offs::Int64, st::Int64)",
      "    @ Base ./array.jl:892",
      " [11] collect_to_with_first!(dest::Vector{Tuple{ComplexF64, Float64}}, v1::Tuple{ComplexF64, Float64}, itr::Base.Generator{UnitRange{Int64}, var\"#31#33\"{Int64, typeof(myfunc)}}, st::Int64)",
      "    @ Base ./array.jl:870",
      " [12] collect(itr::Base.Generator{UnitRange{Int64}, var\"#31#33\"{Int64, typeof(myfunc)}})",
      "    @ Base ./array.jl:844",
      " [13] #30",
      "    @ ./none:0 [inlined]",
      " [14] iterate(g::Base.Generator, s::Vararg{Any})",
      "    @ Base ./generator.jl:47 [inlined]",
      " [15] collect_to!(dest::Vector{Vector{Tuple{ComplexF64, Float64}}}, itr::Base.Generator{UnitRange{Int64}, var\"#30#32\"{typeof(myfunc)}}, offs::Int64, st::Int64)",
      "    @ Base ./array.jl:892",
      " [16] collect_to_with_first!(dest::Vector{Vector{Tuple{ComplexF64, Float64}}}, v1::Vector{Tuple{ComplexF64, Float64}}, itr::Base.Generator{UnitRange{Int64}, var\"#30#32\"{typeof(myfunc)}}, st::Int64)",
      "    @ Base ./array.jl:870",
      " [17] collect(itr::Base.Generator{UnitRange{Int64}, var\"#30#32\"{typeof(myfunc)}})",
      "    @ Base ./array.jl:844",
      " [18] expandSphericalHarmonics(f::Function, lₘₐₓ::Int64)",
      "    @ Main ./In[31]:1",
      " [19] top-level scope",
      "    @ In[33]:1"
     ]
    }
   ],
   "source": [
    "expandSphericalHarmonics(myfunc, 10)"
   ]
  },
  {
   "cell_type": "code",
   "execution_count": null,
   "id": "2f822dfd-6099-4f26-b4a1-975f525258dd",
   "metadata": {},
   "outputs": [],
   "source": []
  }
 ],
 "metadata": {
  "kernelspec": {
   "display_name": "Julia 1.10.0",
   "language": "julia",
   "name": "julia-1.10"
  },
  "language_info": {
   "file_extension": ".jl",
   "mimetype": "application/julia",
   "name": "julia",
   "version": "1.10.0"
  }
 },
 "nbformat": 4,
 "nbformat_minor": 5
}
